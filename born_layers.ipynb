{
 "cells": [
  {
   "cell_type": "markdown",
   "metadata": {},
   "source": [
    "# Playing with Born layers"
   ]
  },
  {
   "cell_type": "markdown",
   "metadata": {},
   "source": [
    "I envision using Born layers instead of classical MLP ones to perform classification.\n",
    "Thus, this notebook serves to familiarise me with them and to test a few hypotheses."
   ]
  },
  {
   "cell_type": "code",
   "execution_count": 1,
   "metadata": {},
   "outputs": [],
   "source": [
    "from sklearn.datasets import make_classification\n",
    "from sklearn.utils import shuffle\n",
    "from sklearn.model_selection import train_test_split\n",
    "from sklearn.metrics import accuracy_score, precision_recall_fscore_support, roc_auc_score, confusion_matrix\n",
    "from sklearn.preprocessing import MinMaxScaler\n",
    "\n",
    "import torch\n",
    "import torch.nn as nn\n",
    "import torch.optim as optim\n",
    "\n",
    "from time import time\n",
    "\n",
    "import matplotlib.pyplot as plt \n",
    "import seaborn as sns\n",
    "\n",
    "import numpy as np\n",
    "import pandas as pd\n",
    "\n",
    "from bornrule.torch import Born"
   ]
  },
  {
   "cell_type": "markdown",
   "metadata": {},
   "source": [
    "## Dataset creation"
   ]
  },
  {
   "cell_type": "code",
   "execution_count": 2,
   "metadata": {},
   "outputs": [],
   "source": [
    "def create_dataset(n_samples=10000, n_features=50, n_informative=15, n_redundant=10, n_clusters_per_class=3, class_sep=0.8, n_classes=3):\n",
    "    X, y = make_classification(n_samples=n_samples, n_features=n_features, n_informative=n_informative,\n",
    "                               n_redundant=n_redundant, n_clusters_per_class=n_clusters_per_class,\n",
    "                               class_sep=class_sep, n_classes=n_classes, random_state=42)\n",
    "    \n",
    "    # need non-negative features\n",
    "    scaler = MinMaxScaler()\n",
    "    X = scaler.fit_transform(X)\n",
    "    \n",
    "    # add noise\n",
    "    X += np.random.normal(0, 0.05, X.shape)\n",
    "    X = np.clip(X, 0, 1)\n",
    "    \n",
    "    # add non-linearity\n",
    "    X = np.column_stack([X, np.sin(X[:, 0] * X[:, 1] * np.pi)])\n",
    "    X = np.column_stack([X, np.exp(X[:, 2] * X[:, 3])])\n",
    "    X = np.column_stack([X, np.log1p(X[:, 4] * X[:, 5])])\n",
    "    \n",
    "    X, y = shuffle(X, y, random_state=42)\n",
    "    return X, y"
   ]
  },
  {
   "cell_type": "code",
   "execution_count": 3,
   "metadata": {},
   "outputs": [
    {
     "name": "stdout",
     "output_type": "stream",
     "text": [
      "Dataset shape: (10000, 53)\n",
      "Number of classes: 3\n",
      "Class distribution: [3336 3339 3325]\n",
      "Feature value range: [0.0000, 2.0860]\n"
     ]
    }
   ],
   "source": [
    "X, y = create_dataset()\n",
    "\n",
    "print(f\"Dataset shape: {X.shape}\")\n",
    "print(f\"Number of classes: {len(np.unique(y))}\")\n",
    "print(f\"Class distribution: {np.bincount(y)}\")\n",
    "print(f\"Feature value range: [{X.min():.4f}, {X.max():.4f}]\")"
   ]
  },
  {
   "cell_type": "code",
   "execution_count": 4,
   "metadata": {},
   "outputs": [
    {
     "name": "stdout",
     "output_type": "stream",
     "text": [
      "Train set shape: (6000, 53)\n",
      "Validation set shape: (2000, 53)\n",
      "Test set shape: (2000, 53)\n"
     ]
    }
   ],
   "source": [
    "X_train_val, X_test, y_train_val, y_test = train_test_split(X, y, test_size=0.2, random_state=42, stratify=y)\n",
    "X_train, X_val, y_train, y_val = train_test_split(X_train_val, y_train_val, test_size=0.25, random_state=42, stratify=y_train_val)\n",
    "\n",
    "print(f\"Train set shape: {X_train.shape}\")\n",
    "print(f\"Validation set shape: {X_val.shape}\")\n",
    "print(f\"Test set shape: {X_test.shape}\")"
   ]
  },
  {
   "cell_type": "markdown",
   "metadata": {},
   "source": [
    "## Born Layers"
   ]
  },
  {
   "cell_type": "code",
   "execution_count": 5,
   "metadata": {},
   "outputs": [],
   "source": [
    "# I call this model naive, because it consists of simply concatenating Born layers, as provided by the `bornrule` module\n",
    "class NaiveBorn(nn.Module):\n",
    "    def __init__(self, layer_sizes, device=None, dtype=None):\n",
    "        super(NaiveBorn, self).__init__()\n",
    "        \n",
    "        self.layers = nn.ModuleList()\n",
    "        for i in range(len(layer_sizes) - 1):\n",
    "            self.layers.append(Born(layer_sizes[i], layer_sizes[i+1], device=device, dtype=dtype))\n",
    "        \n",
    "    def forward(self, x):\n",
    "        for layer in self.layers:\n",
    "            x = layer(x)\n",
    "        return x"
   ]
  },
  {
   "cell_type": "code",
   "execution_count": 6,
   "metadata": {},
   "outputs": [],
   "source": [
    "# normally, in MLP, we do not desire the hidden layers to output probabilites (usually we \"normalise\" at the end through softmax)\n",
    "# the layer below returns logits instead of probabilities (it's just a Born layer without the final normalisation)\n",
    "class BornLogits(nn.Module):\n",
    "    def __init__(self, in_features, out_features, device=None, dtype=None):\n",
    "        super(BornLogits, self).__init__()\n",
    "        self.born = Born(in_features, out_features, device=device, dtype=dtype)\n",
    "    \n",
    "    def forward(self, x):\n",
    "        if self.born.is_complex(self.born.weight.dtype):\n",
    "            return torch.pow(torch.mm(x, self.born.weight).abs(), 2)\n",
    "        else:\n",
    "            real = torch.mm(x, self.born.weight[0])\n",
    "            imag = torch.mm(x, self.born.weight[1])\n",
    "            return torch.pow(real, 2) + torch.pow(imag, 2)"
   ]
  },
  {
   "cell_type": "code",
   "execution_count": 7,
   "metadata": {},
   "outputs": [],
   "source": [
    "class LogitsBorn(nn.Module):\n",
    "    def __init__(self, layer_sizes, device=None, dtype=None):\n",
    "        super(LogitsBorn, self).__init__()\n",
    "        \n",
    "        self.layers = nn.ModuleList()\n",
    "        for i in range(len(layer_sizes) - 2):\n",
    "            self.layers.append(BornLogits(layer_sizes[i], layer_sizes[i+1], device=device, dtype=dtype))\n",
    "        \n",
    "        # final layer uses the original Born to output probabilities\n",
    "        self.layers.append(Born(layer_sizes[-2], layer_sizes[-1], device=device, dtype=dtype))\n",
    "        \n",
    "    def forward(self, x):\n",
    "        for layer in self.layers[:-1]:\n",
    "            x = layer(x)\n",
    "            x = torch.relu(x)\n",
    "        return self.layers[-1](x)"
   ]
  },
  {
   "cell_type": "markdown",
   "metadata": {},
   "source": [
    "## Evaluation"
   ]
  },
  {
   "cell_type": "code",
   "execution_count": 8,
   "metadata": {},
   "outputs": [],
   "source": [
    "def evaluate_born_mlp(model, X_train, y_train, X_val, y_val, X_test, y_test, epochs=100, batch_size=32, learning_rate=0.001):\n",
    "    device = torch.device(\"cuda\" if torch.cuda.is_available() else \"cpu\")\n",
    "    model = model.to(device)\n",
    "    \n",
    "    criterion = nn.CrossEntropyLoss()\n",
    "    optimizer = optim.Adam(model.parameters(), lr=learning_rate)\n",
    "    \n",
    "    X_train = torch.FloatTensor(X_train).to(device)\n",
    "    y_train = torch.LongTensor(y_train).to(device)\n",
    "    X_val = torch.FloatTensor(X_val).to(device)\n",
    "    y_val = torch.LongTensor(y_val).to(device)\n",
    "    X_test = torch.FloatTensor(X_test).to(device)\n",
    "    y_test = torch.LongTensor(y_test).to(device)\n",
    "    \n",
    "    start_time = time()\n",
    "    for _ in range(epochs):\n",
    "        model.train()\n",
    "        for i in range(0, len(X_train), batch_size):\n",
    "            batch_X = X_train[i:i+batch_size]\n",
    "            batch_y = y_train[i:i+batch_size]\n",
    "            \n",
    "            optimizer.zero_grad()\n",
    "            outputs = model(batch_X)\n",
    "            loss = criterion(outputs, batch_y)\n",
    "            loss.backward()\n",
    "            optimizer.step()\n",
    "    \n",
    "    train_time = time() - start_time\n",
    "    \n",
    "    # validation\n",
    "    model.eval()\n",
    "    start_time = time()\n",
    "    with torch.no_grad():\n",
    "        val_outputs = model(X_val)\n",
    "        y_val_pred = torch.argmax(val_outputs, dim=1).cpu().numpy()\n",
    "        val_proba = torch.softmax(val_outputs, dim=1).cpu().numpy()\n",
    "    \n",
    "    val_predict_time = time() - start_time\n",
    "    \n",
    "    val_accuracy = accuracy_score(y_val.cpu().numpy(), y_val_pred)\n",
    "    val_precision, val_recall, val_f1, _ = precision_recall_fscore_support(y_val.cpu().numpy(), y_val_pred, average='weighted')\n",
    "    val_roc_auc = roc_auc_score(y_val.cpu().numpy(), val_proba, multi_class='ovr', average='weighted')\n",
    "    \n",
    "    # test\n",
    "    with torch.no_grad():\n",
    "        test_outputs = model(X_test)\n",
    "        y_test_pred = torch.argmax(test_outputs, dim=1).cpu().numpy()\n",
    "    \n",
    "    test_accuracy = accuracy_score(y_test.cpu().numpy(), y_test_pred)\n",
    "    \n",
    "    return {\n",
    "        'Validation Accuracy': val_accuracy,\n",
    "        'Validation Precision': val_precision,\n",
    "        'Validation Recall': val_recall,\n",
    "        'Validation F1 Score': val_f1,\n",
    "        'Validation ROC AUC': val_roc_auc,\n",
    "        'Test Accuracy': test_accuracy,\n",
    "        'Train Time': train_time,\n",
    "        'Validation Predict Time': val_predict_time,\n",
    "        'Validation Confusion Matrix': confusion_matrix(y_val.cpu().numpy(), y_val_pred)\n",
    "    }"
   ]
  },
  {
   "cell_type": "code",
   "execution_count": 9,
   "metadata": {},
   "outputs": [],
   "source": [
    "# these are mostly arbitrary: the important thing is that they're set to the same values for both nets for a fair comparison\n",
    "in_size = 53\n",
    "out_size = 3\n",
    "hid_sizes = [48, 32, 24, 16]\n",
    "\n",
    "sizes = [in_size] + hid_sizes + [out_size]\n",
    "models = {\n",
    "    'NaiveBorn': NaiveBorn(sizes),\n",
    "    'LogitsBorn': LogitsBorn(sizes),\n",
    "    \n",
    "}"
   ]
  },
  {
   "cell_type": "code",
   "execution_count": 10,
   "metadata": {},
   "outputs": [
    {
     "data": {
      "text/html": [
       "<div>\n",
       "<style scoped>\n",
       "    .dataframe tbody tr th:only-of-type {\n",
       "        vertical-align: middle;\n",
       "    }\n",
       "\n",
       "    .dataframe tbody tr th {\n",
       "        vertical-align: top;\n",
       "    }\n",
       "\n",
       "    .dataframe thead th {\n",
       "        text-align: right;\n",
       "    }\n",
       "</style>\n",
       "<table border=\"1\" class=\"dataframe\">\n",
       "  <thead>\n",
       "    <tr style=\"text-align: right;\">\n",
       "      <th></th>\n",
       "      <th>Validation Accuracy</th>\n",
       "      <th>Validation Precision</th>\n",
       "      <th>Validation Recall</th>\n",
       "      <th>Validation F1 Score</th>\n",
       "      <th>Validation ROC AUC</th>\n",
       "      <th>Test Accuracy</th>\n",
       "      <th>Train Time</th>\n",
       "      <th>Validation Predict Time</th>\n",
       "    </tr>\n",
       "  </thead>\n",
       "  <tbody>\n",
       "    <tr>\n",
       "      <th>NaiveBorn</th>\n",
       "      <td>0.6775</td>\n",
       "      <td>0.686579</td>\n",
       "      <td>0.6775</td>\n",
       "      <td>0.678468</td>\n",
       "      <td>0.806642</td>\n",
       "      <td>0.6685</td>\n",
       "      <td>15.465114</td>\n",
       "      <td>0.002066</td>\n",
       "    </tr>\n",
       "    <tr>\n",
       "      <th>LogitsBorn</th>\n",
       "      <td>0.7035</td>\n",
       "      <td>0.705045</td>\n",
       "      <td>0.7035</td>\n",
       "      <td>0.703433</td>\n",
       "      <td>0.82724</td>\n",
       "      <td>0.7095</td>\n",
       "      <td>12.3643</td>\n",
       "      <td>0.000885</td>\n",
       "    </tr>\n",
       "  </tbody>\n",
       "</table>\n",
       "</div>"
      ],
      "text/plain": [
       "           Validation Accuracy Validation Precision Validation Recall  \\\n",
       "NaiveBorn               0.6775             0.686579            0.6775   \n",
       "LogitsBorn              0.7035             0.705045            0.7035   \n",
       "\n",
       "           Validation F1 Score Validation ROC AUC Test Accuracy Train Time  \\\n",
       "NaiveBorn             0.678468           0.806642        0.6685  15.465114   \n",
       "LogitsBorn            0.703433            0.82724        0.7095    12.3643   \n",
       "\n",
       "           Validation Predict Time  \n",
       "NaiveBorn                 0.002066  \n",
       "LogitsBorn                0.000885  "
      ]
     },
     "execution_count": 10,
     "metadata": {},
     "output_type": "execute_result"
    }
   ],
   "source": [
    "results = {}\n",
    "for name, model in models.items():\n",
    "    results[name] = evaluate_born_mlp(model, X_train, y_train, X_val, y_val, X_test, y_test)\n",
    "summary = pd.DataFrame(results).T\n",
    "summary = summary.drop('Validation Confusion Matrix', axis=1)\n",
    "\n",
    "summary"
   ]
  },
  {
   "cell_type": "code",
   "execution_count": 11,
   "metadata": {},
   "outputs": [
    {
     "data": {
      "image/png": "[encoded data removed]",
      "text/plain": [
       "<Figure size 1200x600 with 4 Axes>"
      ]
     },
     "metadata": {},
     "output_type": "display_data"
    }
   ],
   "source": [
    "# let's look at the confusion matrices\n",
    "fig, axes = plt.subplots(1, 2, figsize=(12, 6))\n",
    "axes = axes.ravel()\n",
    "\n",
    "for i, (name, result) in enumerate(results.items()):\n",
    "    sns.heatmap(result['Validation Confusion Matrix'], annot=True, fmt='d', ax=axes[i])\n",
    "    axes[i].set_title(f'{name} Validation Confusion Matrix')\n",
    "    axes[i].set_xlabel('Predicted Label')\n",
    "    axes[i].set_ylabel('True Label')\n",
    "\n",
    "plt.tight_layout()\n",
    "plt.show()"
   ]
  },
  {
   "cell_type": "markdown",
   "metadata": {},
   "source": [
    "Aha! Not bad at all: the deeper we go, the better `LogitsBorn` seems to get (comparatively speaking). \n",
    "\n",
    "Not to mention that it is quite a bit faster than its naive counterpart (orders of magnitude faster at predict time!).\n",
    "\n",
    "We should probably do some further testing to navigate the differences and the options mode in-depth, but we shall skip this step for now..."
   ]
  },
  {
   "cell_type": "code",
   "execution_count": null,
   "metadata": {},
   "outputs": [],
   "source": []
  }
 ],
 "metadata": {
  "kernelspec": {
   "display_name": "bored",
   "language": "python",
   "name": "python3"
  },
  "language_info": {
   "codemirror_mode": {
    "name": "ipython",
    "version": 3
   },
   "file_extension": ".py",
   "mimetype": "text/x-python",
   "name": "python",
   "nbconvert_exporter": "python",
   "pygments_lexer": "ipython3",
   "version": "3.12.5"
  }
 },
 "nbformat": 4,
 "nbformat_minor": 2
}
